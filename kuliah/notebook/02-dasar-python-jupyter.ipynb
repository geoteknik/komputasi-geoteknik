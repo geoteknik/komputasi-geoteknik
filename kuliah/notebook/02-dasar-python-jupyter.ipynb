{
 "cells": [
  {
   "attachments": {},
   "cell_type": "markdown",
   "metadata": {},
   "source": [
    "### 2.1. Instalasi program\n",
    "**Under construction**\n",
    "### 2.2. Dasar-Dasar Python\n",
    "**Under construction**\n",
    "### 2.3. Dasar-Dasar Jupyter Norebook\n",
    "**Under construction**\n"
   ]
  },
  {
   "attachments": {},
   "cell_type": "markdown",
   "metadata": {},
   "source": [
    "### 2.4. Menggambar Grafik\n",
    "Untuk membuat grafik, kita membutuhkan module *matplotlib*. Beberapa library yang cukup membantu dalam membuat grafik adalah:\n",
    "- matplotlib\n",
    "- numpy\n",
    "- math\n",
    "\n",
    "Modul matplotlib digunakan untuk menggambar grafik, numpy digunakan untuk menympan data, operasi matematika, dll., sedangkan math adalah modul bawaan python yang digunakan untuk operasi matematika.\n",
    "\n",
    "Untuk mengimport modul-modul di atas bisa digunakan kode-kode berikut ini:"
   ]
  },
  {
   "cell_type": "code",
   "execution_count": 1,
   "metadata": {},
   "outputs": [],
   "source": [
    "# Meng-import pustaka menggunakan dua cara\n",
    "import matplotlib.pyplot as plt\n",
    "import numpy as np\n",
    "import math"
   ]
  },
  {
   "attachments": {},
   "cell_type": "markdown",
   "metadata": {},
   "source": [
    "#### 2.4.1 Membuat titik-titik sampel\n",
    "**Cara pertama dan kedua**\n"
   ]
  },
  {
   "cell_type": "code",
   "execution_count": 3,
   "metadata": {},
   "outputs": [],
   "source": [
    "# Cara pertama membuat list\n",
    "x1 = [0, 1, 2]\n",
    "y1 = [0,1, 4] \n",
    "\n",
    "# Cara kedua membuat list\n",
    "x2 = []\n",
    "dx2 = 2/100\n",
    "for i in range(101):\n",
    "    x2.append(i*dx2) \n",
    "y2 = []\n",
    "for i in x2:\n",
    "    y2.append(i**2) "
   ]
  },
  {
   "attachments": {},
   "cell_type": "markdown",
   "metadata": {},
   "source": [
    "**Cara ketiga**\n"
   ]
  },
  {
   "cell_type": "code",
   "execution_count": 4,
   "metadata": {},
   "outputs": [],
   "source": [
    "# Cara ketiga: List Comprehensive\n",
    "dx = 2/100\n",
    "x3 = [i*dx for i in range(101)]\n",
    "y3 = [i**2 for i in x3]\n",
    " "
   ]
  },
  {
   "attachments": {},
   "cell_type": "markdown",
   "metadata": {},
   "source": [
    "**Cara keempat**"
   ]
  },
  {
   "cell_type": "code",
   "execution_count": 5,
   "metadata": {},
   "outputs": [],
   "source": [
    "# Cara ketiga: Numpy in Action \n",
    "x4 = np.linspace(0,2,101)\n",
    "y4 = x4**2\n",
    " "
   ]
  },
  {
   "attachments": {},
   "cell_type": "markdown",
   "metadata": {},
   "source": [
    "#### 2.4.2 Plotting grafik"
   ]
  },
  {
   "cell_type": "code",
   "execution_count": 6,
   "metadata": {},
   "outputs": [
    {
     "data": {
      "text/plain": [
       "[<matplotlib.lines.Line2D at 0x1c1137e0ac8>]"
      ]
     },
     "execution_count": 6,
     "metadata": {},
     "output_type": "execute_result"
    },
    {
     "data": {
      "image/png": "[encoded data removed]",
      "text/plain": [
       "<Figure size 432x288 with 1 Axes>"
      ]
     },
     "metadata": {
      "needs_background": "light"
     },
     "output_type": "display_data"
    }
   ],
   "source": [
    "# Plotting grafik\n",
    "fig, ax = plt.subplots() # membuat objek gambar dan axis\n",
    "ax.plot(x1, y1) # ploting data pada axis"
   ]
  }
 ],
 "metadata": {
  "kernelspec": {
   "display_name": "base",
   "language": "python",
   "name": "python3"
  },
  "language_info": {
   "codemirror_mode": {
    "name": "ipython",
    "version": 3
   },
   "file_extension": ".py",
   "mimetype": "text/x-python",
   "name": "python",
   "nbconvert_exporter": "python",
   "pygments_lexer": "ipython3",
   "version": "3.7.6"
  },
  "orig_nbformat": 4,
  "vscode": {
   "interpreter": {
    "hash": "688e27ea2201f24f036ee87480d7d8d79d04e5ade5319763c122c3e5a8095f9a"
   }
  }
 },
 "nbformat": 4,
 "nbformat_minor": 2
}
